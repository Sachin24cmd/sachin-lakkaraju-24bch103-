{
  "cells": [
    {
      "cell_type": "markdown",
      "metadata": {
        "id": "view-in-github",
        "colab_type": "text"
      },
      "source": [
        "<a href=\"https://colab.research.google.com/github/Sachin24cmd/sachin-lakkaraju-24bch103-/blob/main/Welcome_To_Colab.ipynb\" target=\"_parent\"><img src=\"https://colab.research.google.com/assets/colab-badge.svg\" alt=\"Open In Colab\"/></a>"
      ]
    },
    {
      "source": [
        "#1) Count Vowels in a String\n",
        "def count_vowels(string):\n",
        "  vowels = \"aeiouAEIOU\"\n",
        "  count = 0\n",
        "  for char in string:\n",
        "    if char in vowels:\n",
        "      count += 1\n",
        "  return count\n",
        "\n",
        "string = input(\"Enter a string: \")\n",
        "vowel_count = count_vowels(string)\n",
        "print(\"Number of vowels:\", vowel_count)"
      ],
      "cell_type": "code",
      "metadata": {
        "id": "RS86seIMIl-1",
        "outputId": "34114d2c-e4c2-4da5-e522-78899af7145d",
        "colab": {
          "base_uri": "https://localhost:8080/"
        }
      },
      "execution_count": 2,
      "outputs": [
        {
          "output_type": "stream",
          "name": "stdout",
          "text": [
            "Enter a string: sachin\n",
            "Number of vowels: 2\n"
          ]
        }
      ]
    },
    {
      "source": [
        "#2) Case Conversion Functions\n",
        "def to_lower(string):\n",
        "  result = \"\"\n",
        "  for char in string:\n",
        "    if 'A' <= char <= 'Z':\n",
        "      result += chr(ord(char) + 32)\n",
        "    else:\n",
        "      result += char\n",
        "  return result\n",
        "\n",
        "def to_upper(string):\n",
        "  result = \"\"\n",
        "  for char in string:\n",
        "    if 'a' <= char <= 'z':\n",
        "      result += chr(ord(char) - 32)\n",
        "    else:\n",
        "      result += char\n",
        "  return result\n",
        "\n",
        "def toggle_case(string):\n",
        "  result = \"\"\n",
        "  for char in string:\n",
        "    if 'a' <= char <= 'z':\n",
        "      result += chr(ord(char) - 32)\n",
        "    elif 'A' <= char <= 'Z':\n",
        "      result += chr(ord(char) + 32)\n",
        "    else:\n",
        "      result += char\n",
        "  return result\n",
        "\n",
        "string = input(\"Enter a string: \")\n",
        "print(\"Lowercase:\", to_lower(string))\n",
        "print(\"Uppercase:\", to_upper(string))\n",
        "print(\"Toggle Case:\", toggle_case(string))"
      ],
      "cell_type": "code",
      "metadata": {
        "collapsed": true,
        "id": "55wCwQT6InE_",
        "outputId": "59e8eafb-08c7-4625-fbc5-fb434874a92e",
        "colab": {
          "base_uri": "https://localhost:8080/"
        }
      },
      "execution_count": 3,
      "outputs": [
        {
          "output_type": "stream",
          "name": "stdout",
          "text": [
            "Enter a string: yatin\n",
            "Lowercase: yatin\n",
            "Uppercase: YATIN\n",
            "Toggle Case: YATIN\n"
          ]
        }
      ]
    },
    {
      "source": [
        "#3) Check String Presence\n",
        "def is_substring(string1, string2):\n",
        "  if string2 in string1:\n",
        "    return True\n",
        "  else:\n",
        "    return False\n",
        "\n",
        "string1 = input(\"Enter the first string: \")\n",
        "string2 = input(\"Enter the second string: \")\n",
        "\n",
        "if is_substring(string1, string2):\n",
        "  print(string2, \"is present in\", string1)\n",
        "else:\n",
        "  print(string2, \"is not present in\", string1)"
      ],
      "cell_type": "code",
      "metadata": {
        "id": "IW7V-EuqIpjn",
        "outputId": "3c2bf31e-51fd-4ccf-b825-31ce4c59a8fa",
        "colab": {
          "base_uri": "https://localhost:8080/"
        }
      },
      "execution_count": 4,
      "outputs": [
        {
          "output_type": "stream",
          "name": "stdout",
          "text": [
            "Enter the first string: return\n",
            "Enter the second string: arrive \n",
            "arrive  is not present in return\n"
          ]
        }
      ]
    },
    {
      "source": [
        "#4) Remove String from Another String\n",
        "def remove_substring(string1, string2):\n",
        "  result = string1.replace(string2, \"\")\n",
        "  return result\n",
        "\n",
        "string1 = input(\"Enter the first string: \")\n",
        "string2 = input(\"Enter the string to remove: \")\n",
        "\n",
        "final_string = remove_substring(string1, string2)\n",
        "print(\"Final string:\", final_string)"
      ],
      "cell_type": "code",
      "metadata": {
        "id": "GeYlZVggIqee",
        "outputId": "b4ea697e-6336-4673-84dd-309060d155e8",
        "colab": {
          "base_uri": "https://localhost:8080/"
        }
      },
      "execution_count": 5,
      "outputs": [
        {
          "output_type": "stream",
          "name": "stdout",
          "text": [
            "Enter the first string: forever\n",
            "Enter the string to remove: rev\n",
            "Final string: foer\n"
          ]
        }
      ]
    }
  ],
  "metadata": {
    "colab": {
      "name": "Welcome To Colab",
      "toc_visible": true,
      "provenance": [],
      "include_colab_link": true
    },
    "kernelspec": {
      "display_name": "Python 3",
      "name": "python3"
    }
  },
  "nbformat": 4,
  "nbformat_minor": 0
}